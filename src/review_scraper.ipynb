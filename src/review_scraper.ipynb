{
 "cells": [
  {
   "cell_type": "code",
   "execution_count": 292,
   "metadata": {},
   "outputs": [],
   "source": [
    "import pandas as pd\n",
    "import requests\n",
    "from bs4 import BeautifulSoup\n",
    "import time\n",
    "\n",
    "import ipykernel.iostream\n",
    "import sys\n",
    "\n",
    "import urllib3.contrib.pyopenssl"
   ]
  },
  {
   "cell_type": "code",
   "execution_count": 273,
   "metadata": {},
   "outputs": [],
   "source": [
    "from requests.packages.urllib3.exceptions import InsecureRequestWarning\n",
    "requests.packages.urllib3.disable_warnings(InsecureRequestWarning)\n",
    "\n",
    "## Attribution: https://stackoverflow.com/questions/43846689/sslerror-bad-handshake-syscallerror54-econnreset"
   ]
  },
  {
   "cell_type": "code",
   "execution_count": 24,
   "metadata": {},
   "outputs": [],
   "source": [
    "links = pd.read_csv('../data/links.csv', names = ['link'], skiprows=1)"
   ]
  },
  {
   "cell_type": "code",
   "execution_count": 25,
   "metadata": {},
   "outputs": [
    {
     "data": {
      "text/html": [
       "<div>\n",
       "<style scoped>\n",
       "    .dataframe tbody tr th:only-of-type {\n",
       "        vertical-align: middle;\n",
       "    }\n",
       "\n",
       "    .dataframe tbody tr th {\n",
       "        vertical-align: top;\n",
       "    }\n",
       "\n",
       "    .dataframe thead th {\n",
       "        text-align: right;\n",
       "    }\n",
       "</style>\n",
       "<table border=\"1\" class=\"dataframe\">\n",
       "  <thead>\n",
       "    <tr style=\"text-align: right;\">\n",
       "      <th></th>\n",
       "      <th>link</th>\n",
       "    </tr>\n",
       "  </thead>\n",
       "  <tbody>\n",
       "    <tr>\n",
       "      <th>0</th>\n",
       "      <td>https://onebite.app/restaurant/pizza-hut-adana...</td>\n",
       "    </tr>\n",
       "    <tr>\n",
       "      <th>1</th>\n",
       "      <td>https://onebite.app/restaurant/del-sole-01-472...</td>\n",
       "    </tr>\n",
       "    <tr>\n",
       "      <th>2</th>\n",
       "      <td>https://onebite.app/restaurant/lava-lounge-piz...</td>\n",
       "    </tr>\n",
       "    <tr>\n",
       "      <th>3</th>\n",
       "      <td>https://onebite.app/restaurant/pizzaria-cosa-n...</td>\n",
       "    </tr>\n",
       "    <tr>\n",
       "      <th>4</th>\n",
       "      <td>https://onebite.app/restaurant/olivia-tjuvholm...</td>\n",
       "    </tr>\n",
       "    <tr>\n",
       "      <th>...</th>\n",
       "      <td>...</td>\n",
       "    </tr>\n",
       "    <tr>\n",
       "      <th>50582</th>\n",
       "      <td>https://onebite.app/restaurant/very-italian-pi...</td>\n",
       "    </tr>\n",
       "    <tr>\n",
       "      <th>50583</th>\n",
       "      <td>https://onebite.app/restaurant/donatellos-leid...</td>\n",
       "    </tr>\n",
       "    <tr>\n",
       "      <th>50584</th>\n",
       "      <td>https://onebite.app/restaurant/santa-lucia-lim...</td>\n",
       "    </tr>\n",
       "    <tr>\n",
       "      <th>50585</th>\n",
       "      <td>https://onebite.app/restaurant/pizze-pronto-sc...</td>\n",
       "    </tr>\n",
       "    <tr>\n",
       "      <th>50586</th>\n",
       "      <td>https://onebite.app/restaurant/luigia-zurich-z...</td>\n",
       "    </tr>\n",
       "  </tbody>\n",
       "</table>\n",
       "<p>50587 rows × 1 columns</p>\n",
       "</div>"
      ],
      "text/plain": [
       "                                                    link\n",
       "0      https://onebite.app/restaurant/pizza-hut-adana...\n",
       "1      https://onebite.app/restaurant/del-sole-01-472...\n",
       "2      https://onebite.app/restaurant/lava-lounge-piz...\n",
       "3      https://onebite.app/restaurant/pizzaria-cosa-n...\n",
       "4      https://onebite.app/restaurant/olivia-tjuvholm...\n",
       "...                                                  ...\n",
       "50582  https://onebite.app/restaurant/very-italian-pi...\n",
       "50583  https://onebite.app/restaurant/donatellos-leid...\n",
       "50584  https://onebite.app/restaurant/santa-lucia-lim...\n",
       "50585  https://onebite.app/restaurant/pizze-pronto-sc...\n",
       "50586  https://onebite.app/restaurant/luigia-zurich-z...\n",
       "\n",
       "[50587 rows x 1 columns]"
      ]
     },
     "execution_count": 25,
     "metadata": {},
     "output_type": "execute_result"
    }
   ],
   "source": [
    "links"
   ]
  },
  {
   "cell_type": "code",
   "execution_count": 302,
   "metadata": {},
   "outputs": [
    {
     "name": "stdout",
     "output_type": "stream",
     "text": [
      "https://onebite.app/restaurant/luigia-zurich-zh-851254c3\n",
      "102.5960841178894\n"
     ]
    }
   ],
   "source": [
    "start = time.time()\n",
    "\n",
    "dave_scores = []\n",
    "user_scores = []\n",
    "name = []\n",
    "address = []\n",
    "\n",
    "links2 = links\n",
    "\n",
    "for link in list(links2['link']):\n",
    "\n",
    "    clear_output()\n",
    "    print(link)\n",
    "    r = requests.get(link)\n",
    "    bs = BeautifulSoup(r.text)\n",
    "    \n",
    "    if r.status_code == 200:\n",
    "\n",
    "        temp = []\n",
    "\n",
    "        for elem in bs.find_all('a'):\n",
    "            if 'jsx-84601126' in (elem.attrs['class']):\n",
    "                temp.append(elem.text)\n",
    "\n",
    "        name.append(temp[0])\n",
    "        address.append(temp[1])\n",
    "\n",
    "        temp2 = []\n",
    "\n",
    "        for elem in bs.find_all('span'):\n",
    "            if 'score' in (elem.attrs['class']):\n",
    "                temp2.append(elem.text)\n",
    "\n",
    "        dave_scores.append(temp2[0])\n",
    "        user_scores.append(temp2[1])\n",
    "        \n",
    "    else:\n",
    "        pass\n",
    "\n",
    "    time.sleep(0.25)\n",
    "    \n",
    "end = time.time()\n",
    "    \n",
    "print(end-start)"
   ]
  },
  {
   "cell_type": "code",
   "execution_count": 303,
   "metadata": {},
   "outputs": [
    {
     "data": {
      "text/html": [
       "<div>\n",
       "<style scoped>\n",
       "    .dataframe tbody tr th:only-of-type {\n",
       "        vertical-align: middle;\n",
       "    }\n",
       "\n",
       "    .dataframe tbody tr th {\n",
       "        vertical-align: top;\n",
       "    }\n",
       "\n",
       "    .dataframe thead th {\n",
       "        text-align: right;\n",
       "    }\n",
       "</style>\n",
       "<table border=\"1\" class=\"dataframe\">\n",
       "  <thead>\n",
       "    <tr style=\"text-align: right;\">\n",
       "      <th></th>\n",
       "      <th>restaurant_name</th>\n",
       "      <th>dave_scores</th>\n",
       "      <th>user_scores</th>\n",
       "      <th>address</th>\n",
       "    </tr>\n",
       "  </thead>\n",
       "  <tbody>\n",
       "    <tr>\n",
       "      <th>0</th>\n",
       "      <td>Pizza Hut</td>\n",
       "      <td>0.0</td>\n",
       "      <td>2.7</td>\n",
       "      <td>213. Sok., Adana, 01</td>\n",
       "    </tr>\n",
       "    <tr>\n",
       "      <th>1</th>\n",
       "      <td>Del sole</td>\n",
       "      <td>0.0</td>\n",
       "      <td>7.3</td>\n",
       "      <td>字ニセコ483-1, 虻田郡, 01</td>\n",
       "    </tr>\n",
       "    <tr>\n",
       "      <th>2</th>\n",
       "      <td>Lava Lounge Pizza Niseko</td>\n",
       "      <td>0.0</td>\n",
       "      <td>4.2</td>\n",
       "      <td>倶知安町字山田191-19, 虻田郡, 01</td>\n",
       "    </tr>\n",
       "    <tr>\n",
       "      <th>3</th>\n",
       "      <td>Pizzaria Cosa Nostra</td>\n",
       "      <td>0.0</td>\n",
       "      <td>8.5</td>\n",
       "      <td>R. Custódio Brás Pacheco, 1, Vila Nova de Milf...</td>\n",
       "    </tr>\n",
       "    <tr>\n",
       "      <th>4</th>\n",
       "      <td>Olivia Tjuvholmen</td>\n",
       "      <td>0.0</td>\n",
       "      <td>8.4</td>\n",
       "      <td>Bryggegangen 4, Oslo, 03</td>\n",
       "    </tr>\n",
       "    <tr>\n",
       "      <th>...</th>\n",
       "      <td>...</td>\n",
       "      <td>...</td>\n",
       "      <td>...</td>\n",
       "      <td>...</td>\n",
       "    </tr>\n",
       "    <tr>\n",
       "      <th>50582</th>\n",
       "      <td>Very Italian Pizza</td>\n",
       "      <td>0.0</td>\n",
       "      <td>7.4</td>\n",
       "      <td>Turfmarkt 8, Leiden, ZH</td>\n",
       "    </tr>\n",
       "    <tr>\n",
       "      <th>50583</th>\n",
       "      <td>Donatello's</td>\n",
       "      <td>0.0</td>\n",
       "      <td>6.2</td>\n",
       "      <td>Haarlemerstraat 20, Leiden, ZH</td>\n",
       "    </tr>\n",
       "    <tr>\n",
       "      <th>50584</th>\n",
       "      <td>Santa Lucia Limmatplatz</td>\n",
       "      <td>0.0</td>\n",
       "      <td>6.8</td>\n",
       "      <td>Luisenstrasse 31, Zürich, ZH</td>\n",
       "    </tr>\n",
       "    <tr>\n",
       "      <th>50585</th>\n",
       "      <td>Pizze Pronto</td>\n",
       "      <td>0.0</td>\n",
       "      <td>7.7</td>\n",
       "      <td>Schoolstraat 1, Schiedam, ZH</td>\n",
       "    </tr>\n",
       "    <tr>\n",
       "      <th>50586</th>\n",
       "      <td>Luigia</td>\n",
       "      <td>0.0</td>\n",
       "      <td>8.9</td>\n",
       "      <td>Talstrasse 61, Zürich, ZH</td>\n",
       "    </tr>\n",
       "  </tbody>\n",
       "</table>\n",
       "<p>50587 rows × 4 columns</p>\n",
       "</div>"
      ],
      "text/plain": [
       "                restaurant_name dave_scores user_scores  \\\n",
       "0                     Pizza Hut         0.0         2.7   \n",
       "1                      Del sole         0.0         7.3   \n",
       "2      Lava Lounge Pizza Niseko         0.0         4.2   \n",
       "3          Pizzaria Cosa Nostra         0.0         8.5   \n",
       "4             Olivia Tjuvholmen         0.0         8.4   \n",
       "...                         ...         ...         ...   \n",
       "50582        Very Italian Pizza         0.0         7.4   \n",
       "50583               Donatello's         0.0         6.2   \n",
       "50584   Santa Lucia Limmatplatz         0.0         6.8   \n",
       "50585              Pizze Pronto         0.0         7.7   \n",
       "50586                    Luigia         0.0         8.9   \n",
       "\n",
       "                                                 address  \n",
       "0                                   213. Sok., Adana, 01  \n",
       "1                                     字ニセコ483-1, 虻田郡, 01  \n",
       "2                                 倶知安町字山田191-19, 虻田郡, 01  \n",
       "3      R. Custódio Brás Pacheco, 1, Vila Nova de Milf...  \n",
       "4                               Bryggegangen 4, Oslo, 03  \n",
       "...                                                  ...  \n",
       "50582                            Turfmarkt 8, Leiden, ZH  \n",
       "50583                     Haarlemerstraat 20, Leiden, ZH  \n",
       "50584                       Luisenstrasse 31, Zürich, ZH  \n",
       "50585                       Schoolstraat 1, Schiedam, ZH  \n",
       "50586                          Talstrasse 61, Zürich, ZH  \n",
       "\n",
       "[50587 rows x 4 columns]"
      ]
     },
     "execution_count": 303,
     "metadata": {},
     "output_type": "execute_result"
    }
   ],
   "source": [
    "df = pd.DataFrame({'restaurant_name': name,\n",
    "                   'dave_scores': dave_scores,\n",
    "                   'user_scores': user_scores,\n",
    "                   'address': address})\n",
    "\n",
    "df"
   ]
  },
  {
   "cell_type": "markdown",
   "metadata": {},
   "source": [
    "Let's check the values.\n",
    "First we convert the numeric columns to numeric."
   ]
  },
  {
   "cell_type": "code",
   "execution_count": 319,
   "metadata": {},
   "outputs": [],
   "source": [
    "df['dave_scores'] = pd.to_numeric(df['dave_scores'], downcast=\"float\")\n",
    "df['user_scores'] = pd.to_numeric(df['user_scores'], downcast=\"float\")"
   ]
  },
  {
   "cell_type": "markdown",
   "metadata": {},
   "source": [
    "Check the average of each column. \n",
    "The column with Dave's scores should rule out the reviews that are 0, as these are restaurants that he hasn't reviewed. "
   ]
  },
  {
   "cell_type": "code",
   "execution_count": 321,
   "metadata": {},
   "outputs": [
    {
     "data": {
      "text/plain": [
       "6.656379699707031"
      ]
     },
     "execution_count": 321,
     "metadata": {},
     "output_type": "execute_result"
    }
   ],
   "source": [
    "df[df['dave_scores'] != 0]['dave_scores'].mean()"
   ]
  },
  {
   "cell_type": "code",
   "execution_count": 322,
   "metadata": {},
   "outputs": [
    {
     "data": {
      "text/plain": [
       "6.473654747009277"
      ]
     },
     "execution_count": 322,
     "metadata": {},
     "output_type": "execute_result"
    }
   ],
   "source": [
    "df['user_scores'].mean()"
   ]
  },
  {
   "cell_type": "markdown",
   "metadata": {},
   "source": [
    "User scores are a little lower than Dave's scores which is surprising, but they both seem like reasonable averages. "
   ]
  },
  {
   "cell_type": "code",
   "execution_count": 323,
   "metadata": {},
   "outputs": [],
   "source": [
    "df.to_csv(\"../data/reviews.csv\")"
   ]
  },
  {
   "cell_type": "code",
   "execution_count": 324,
   "metadata": {},
   "outputs": [
    {
     "data": {
      "text/html": [
       "<div>\n",
       "<style scoped>\n",
       "    .dataframe tbody tr th:only-of-type {\n",
       "        vertical-align: middle;\n",
       "    }\n",
       "\n",
       "    .dataframe tbody tr th {\n",
       "        vertical-align: top;\n",
       "    }\n",
       "\n",
       "    .dataframe thead th {\n",
       "        text-align: right;\n",
       "    }\n",
       "</style>\n",
       "<table border=\"1\" class=\"dataframe\">\n",
       "  <thead>\n",
       "    <tr style=\"text-align: right;\">\n",
       "      <th></th>\n",
       "      <th>link</th>\n",
       "    </tr>\n",
       "  </thead>\n",
       "  <tbody>\n",
       "    <tr>\n",
       "      <th>0</th>\n",
       "      <td>https://onebite.app/restaurant/pizza-hut-adana...</td>\n",
       "    </tr>\n",
       "    <tr>\n",
       "      <th>1</th>\n",
       "      <td>https://onebite.app/restaurant/del-sole-01-472...</td>\n",
       "    </tr>\n",
       "    <tr>\n",
       "      <th>2</th>\n",
       "      <td>https://onebite.app/restaurant/lava-lounge-piz...</td>\n",
       "    </tr>\n",
       "    <tr>\n",
       "      <th>3</th>\n",
       "      <td>https://onebite.app/restaurant/pizzaria-cosa-n...</td>\n",
       "    </tr>\n",
       "    <tr>\n",
       "      <th>4</th>\n",
       "      <td>https://onebite.app/restaurant/olivia-tjuvholm...</td>\n",
       "    </tr>\n",
       "    <tr>\n",
       "      <th>...</th>\n",
       "      <td>...</td>\n",
       "    </tr>\n",
       "    <tr>\n",
       "      <th>50582</th>\n",
       "      <td>https://onebite.app/restaurant/very-italian-pi...</td>\n",
       "    </tr>\n",
       "    <tr>\n",
       "      <th>50583</th>\n",
       "      <td>https://onebite.app/restaurant/donatellos-leid...</td>\n",
       "    </tr>\n",
       "    <tr>\n",
       "      <th>50584</th>\n",
       "      <td>https://onebite.app/restaurant/santa-lucia-lim...</td>\n",
       "    </tr>\n",
       "    <tr>\n",
       "      <th>50585</th>\n",
       "      <td>https://onebite.app/restaurant/pizze-pronto-sc...</td>\n",
       "    </tr>\n",
       "    <tr>\n",
       "      <th>50586</th>\n",
       "      <td>https://onebite.app/restaurant/luigia-zurich-z...</td>\n",
       "    </tr>\n",
       "  </tbody>\n",
       "</table>\n",
       "<p>50587 rows × 1 columns</p>\n",
       "</div>"
      ],
      "text/plain": [
       "                                                    link\n",
       "0      https://onebite.app/restaurant/pizza-hut-adana...\n",
       "1      https://onebite.app/restaurant/del-sole-01-472...\n",
       "2      https://onebite.app/restaurant/lava-lounge-piz...\n",
       "3      https://onebite.app/restaurant/pizzaria-cosa-n...\n",
       "4      https://onebite.app/restaurant/olivia-tjuvholm...\n",
       "...                                                  ...\n",
       "50582  https://onebite.app/restaurant/very-italian-pi...\n",
       "50583  https://onebite.app/restaurant/donatellos-leid...\n",
       "50584  https://onebite.app/restaurant/santa-lucia-lim...\n",
       "50585  https://onebite.app/restaurant/pizze-pronto-sc...\n",
       "50586  https://onebite.app/restaurant/luigia-zurich-z...\n",
       "\n",
       "[50587 rows x 1 columns]"
      ]
     },
     "execution_count": 324,
     "metadata": {},
     "output_type": "execute_result"
    }
   ],
   "source": []
  },
  {
   "cell_type": "code",
   "execution_count": null,
   "metadata": {},
   "outputs": [],
   "source": []
  }
 ],
 "metadata": {
  "kernelspec": {
   "display_name": "Python 3",
   "language": "python",
   "name": "python3"
  },
  "language_info": {
   "codemirror_mode": {
    "name": "ipython",
    "version": 3
   },
   "file_extension": ".py",
   "mimetype": "text/x-python",
   "name": "python",
   "nbconvert_exporter": "python",
   "pygments_lexer": "ipython3",
   "version": "3.7.6"
  }
 },
 "nbformat": 4,
 "nbformat_minor": 4
}
