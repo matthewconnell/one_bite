{
 "cells": [
  {
   "cell_type": "code",
   "execution_count": 292,
   "metadata": {},
   "outputs": [],
   "source": [
    "import pandas as pd\n",
    "import requests\n",
    "from bs4 import BeautifulSoup\n",
    "import time\n",
    "\n",
    "import ipykernel.iostream\n",
    "import sys\n",
    "\n",
    "import urllib3.contrib.pyopenssl"
   ]
  },
  {
   "cell_type": "code",
   "execution_count": 273,
   "metadata": {},
   "outputs": [],
   "source": [
    "from requests.packages.urllib3.exceptions import InsecureRequestWarning\n",
    "requests.packages.urllib3.disable_warnings(InsecureRequestWarning)\n",
    "\n",
    "## Attribution: https://stackoverflow.com/questions/43846689/sslerror-bad-handshake-syscallerror54-econnreset"
   ]
  },
  {
   "cell_type": "code",
   "execution_count": 24,
   "metadata": {},
   "outputs": [],
   "source": [
    "links = pd.read_csv('../data/links.csv', names = ['link'], skiprows=1)"
   ]
  },
  {
   "cell_type": "code",
   "execution_count": 25,
   "metadata": {},
   "outputs": [
    {
     "data": {
      "text/html": [
       "<div>\n",
       "<style scoped>\n",
       "    .dataframe tbody tr th:only-of-type {\n",
       "        vertical-align: middle;\n",
       "    }\n",
       "\n",
       "    .dataframe tbody tr th {\n",
       "        vertical-align: top;\n",
       "    }\n",
       "\n",
       "    .dataframe thead th {\n",
       "        text-align: right;\n",
       "    }\n",
       "</style>\n",
       "<table border=\"1\" class=\"dataframe\">\n",
       "  <thead>\n",
       "    <tr style=\"text-align: right;\">\n",
       "      <th></th>\n",
       "      <th>link</th>\n",
       "    </tr>\n",
       "  </thead>\n",
       "  <tbody>\n",
       "    <tr>\n",
       "      <th>0</th>\n",
       "      <td>https://onebite.app/restaurant/pizza-hut-adana...</td>\n",
       "    </tr>\n",
       "    <tr>\n",
       "      <th>1</th>\n",
       "      <td>https://onebite.app/restaurant/del-sole-01-472...</td>\n",
       "    </tr>\n",
       "    <tr>\n",
       "      <th>2</th>\n",
       "      <td>https://onebite.app/restaurant/lava-lounge-piz...</td>\n",
       "    </tr>\n",
       "    <tr>\n",
       "      <th>3</th>\n",
       "      <td>https://onebite.app/restaurant/pizzaria-cosa-n...</td>\n",
       "    </tr>\n",
       "    <tr>\n",
       "      <th>4</th>\n",
       "      <td>https://onebite.app/restaurant/olivia-tjuvholm...</td>\n",
       "    </tr>\n",
       "    <tr>\n",
       "      <th>...</th>\n",
       "      <td>...</td>\n",
       "    </tr>\n",
       "    <tr>\n",
       "      <th>50582</th>\n",
       "      <td>https://onebite.app/restaurant/very-italian-pi...</td>\n",
       "    </tr>\n",
       "    <tr>\n",
       "      <th>50583</th>\n",
       "      <td>https://onebite.app/restaurant/donatellos-leid...</td>\n",
       "    </tr>\n",
       "    <tr>\n",
       "      <th>50584</th>\n",
       "      <td>https://onebite.app/restaurant/santa-lucia-lim...</td>\n",
       "    </tr>\n",
       "    <tr>\n",
       "      <th>50585</th>\n",
       "      <td>https://onebite.app/restaurant/pizze-pronto-sc...</td>\n",
       "    </tr>\n",
       "    <tr>\n",
       "      <th>50586</th>\n",
       "      <td>https://onebite.app/restaurant/luigia-zurich-z...</td>\n",
       "    </tr>\n",
       "  </tbody>\n",
       "</table>\n",
       "<p>50587 rows × 1 columns</p>\n",
       "</div>"
      ],
      "text/plain": [
       "                                                    link\n",
       "0      https://onebite.app/restaurant/pizza-hut-adana...\n",
       "1      https://onebite.app/restaurant/del-sole-01-472...\n",
       "2      https://onebite.app/restaurant/lava-lounge-piz...\n",
       "3      https://onebite.app/restaurant/pizzaria-cosa-n...\n",
       "4      https://onebite.app/restaurant/olivia-tjuvholm...\n",
       "...                                                  ...\n",
       "50582  https://onebite.app/restaurant/very-italian-pi...\n",
       "50583  https://onebite.app/restaurant/donatellos-leid...\n",
       "50584  https://onebite.app/restaurant/santa-lucia-lim...\n",
       "50585  https://onebite.app/restaurant/pizze-pronto-sc...\n",
       "50586  https://onebite.app/restaurant/luigia-zurich-z...\n",
       "\n",
       "[50587 rows x 1 columns]"
      ]
     },
     "execution_count": 25,
     "metadata": {},
     "output_type": "execute_result"
    }
   ],
   "source": [
    "links"
   ]
  },
  {
   "cell_type": "code",
   "execution_count": null,
   "metadata": {},
   "outputs": [],
   "source": [
    "start = time.time()\n",
    "\n",
    "# dave_scores = []\n",
    "# user_scores = []\n",
    "# name = []\n",
    "# address = []\n",
    "\n",
    "links2 = links[29101:]\n",
    "\n",
    "for link in list(links2['link']):\n",
    "\n",
    "    clear_output()\n",
    "    print(link)\n",
    "    r = requests.get(link)\n",
    "    bs = BeautifulSoup(r.text)\n",
    "    \n",
    "    if r.status_code == 200:\n",
    "\n",
    "        temp = []\n",
    "\n",
    "        for elem in bs.find_all('a'):\n",
    "            if 'jsx-84601126' in (elem.attrs['class']):\n",
    "                temp.append(elem.text)\n",
    "\n",
    "        name.append(temp[0])\n",
    "        address.append(temp[1])\n",
    "\n",
    "        temp2 = []\n",
    "\n",
    "        for elem in bs.find_all('span'):\n",
    "            if 'score' in (elem.attrs['class']):\n",
    "                temp2.append(elem.text)\n",
    "\n",
    "        dave_scores.append(temp2[0])\n",
    "        user_scores.append(temp2[1])\n",
    "        \n",
    "    else:\n",
    "        pass\n",
    "\n",
    "    time.sleep(0.25)\n",
    "    \n",
    "end = time.time()\n",
    "    \n",
    "print(end-start)"
   ]
  },
  {
   "cell_type": "code",
   "execution_count": 215,
   "metadata": {},
   "outputs": [
    {
     "data": {
      "text/html": [
       "<div>\n",
       "<style scoped>\n",
       "    .dataframe tbody tr th:only-of-type {\n",
       "        vertical-align: middle;\n",
       "    }\n",
       "\n",
       "    .dataframe tbody tr th {\n",
       "        vertical-align: top;\n",
       "    }\n",
       "\n",
       "    .dataframe thead th {\n",
       "        text-align: right;\n",
       "    }\n",
       "</style>\n",
       "<table border=\"1\" class=\"dataframe\">\n",
       "  <thead>\n",
       "    <tr style=\"text-align: right;\">\n",
       "      <th></th>\n",
       "      <th>restaurant_name</th>\n",
       "      <th>dave_scores</th>\n",
       "      <th>user_scores</th>\n",
       "      <th>address</th>\n",
       "    </tr>\n",
       "  </thead>\n",
       "  <tbody>\n",
       "    <tr>\n",
       "      <th>0</th>\n",
       "      <td>Pizza Hut</td>\n",
       "      <td>0.0</td>\n",
       "      <td>2.7</td>\n",
       "      <td>213. Sok., Adana, 01</td>\n",
       "    </tr>\n",
       "    <tr>\n",
       "      <th>1</th>\n",
       "      <td>Del sole</td>\n",
       "      <td>0.0</td>\n",
       "      <td>7.3</td>\n",
       "      <td>字ニセコ483-1, 虻田郡, 01</td>\n",
       "    </tr>\n",
       "    <tr>\n",
       "      <th>2</th>\n",
       "      <td>Lava Lounge Pizza Niseko</td>\n",
       "      <td>0.0</td>\n",
       "      <td>4.2</td>\n",
       "      <td>倶知安町字山田191-19, 虻田郡, 01</td>\n",
       "    </tr>\n",
       "    <tr>\n",
       "      <th>3</th>\n",
       "      <td>Pizzaria Cosa Nostra</td>\n",
       "      <td>0.0</td>\n",
       "      <td>8.5</td>\n",
       "      <td>R. Custódio Brás Pacheco, 1, Vila Nova de Milf...</td>\n",
       "    </tr>\n",
       "    <tr>\n",
       "      <th>4</th>\n",
       "      <td>Olivia Tjuvholmen</td>\n",
       "      <td>0.0</td>\n",
       "      <td>8.4</td>\n",
       "      <td>Bryggegangen 4, Oslo, 03</td>\n",
       "    </tr>\n",
       "    <tr>\n",
       "      <th>...</th>\n",
       "      <td>...</td>\n",
       "      <td>...</td>\n",
       "      <td>...</td>\n",
       "      <td>...</td>\n",
       "    </tr>\n",
       "    <tr>\n",
       "      <th>6359</th>\n",
       "      <td>Brickhouse Pizzeria</td>\n",
       "      <td>0.0</td>\n",
       "      <td>7.8</td>\n",
       "      <td>820 Main St, Silt, CO</td>\n",
       "    </tr>\n",
       "    <tr>\n",
       "      <th>6360</th>\n",
       "      <td>Hogback Pizza</td>\n",
       "      <td>0.0</td>\n",
       "      <td>7.3</td>\n",
       "      <td>457 W Main St, New Castle, CO</td>\n",
       "    </tr>\n",
       "    <tr>\n",
       "      <th>6361</th>\n",
       "      <td>Russos</td>\n",
       "      <td>0.0</td>\n",
       "      <td>5.9</td>\n",
       "      <td>40 Market St, Glenwood Springs, CO</td>\n",
       "    </tr>\n",
       "    <tr>\n",
       "      <th>6362</th>\n",
       "      <td>Timbo's Pizza</td>\n",
       "      <td>0.0</td>\n",
       "      <td>4.5</td>\n",
       "      <td>23258 Two Rivers Rd, Basalt, CO</td>\n",
       "    </tr>\n",
       "    <tr>\n",
       "      <th>6363</th>\n",
       "      <td>Peppino's Pizza</td>\n",
       "      <td>0.0</td>\n",
       "      <td>3.9</td>\n",
       "      <td>524 Main St, Carbondale, CO</td>\n",
       "    </tr>\n",
       "  </tbody>\n",
       "</table>\n",
       "<p>6364 rows × 4 columns</p>\n",
       "</div>"
      ],
      "text/plain": [
       "               restaurant_name dave_scores user_scores  \\\n",
       "0                    Pizza Hut         0.0         2.7   \n",
       "1                     Del sole         0.0         7.3   \n",
       "2     Lava Lounge Pizza Niseko         0.0         4.2   \n",
       "3         Pizzaria Cosa Nostra         0.0         8.5   \n",
       "4            Olivia Tjuvholmen         0.0         8.4   \n",
       "...                        ...         ...         ...   \n",
       "6359       Brickhouse Pizzeria         0.0         7.8   \n",
       "6360             Hogback Pizza         0.0         7.3   \n",
       "6361                    Russos         0.0         5.9   \n",
       "6362             Timbo's Pizza         0.0         4.5   \n",
       "6363           Peppino's Pizza         0.0         3.9   \n",
       "\n",
       "                                                address  \n",
       "0                                  213. Sok., Adana, 01  \n",
       "1                                    字ニセコ483-1, 虻田郡, 01  \n",
       "2                                倶知安町字山田191-19, 虻田郡, 01  \n",
       "3     R. Custódio Brás Pacheco, 1, Vila Nova de Milf...  \n",
       "4                              Bryggegangen 4, Oslo, 03  \n",
       "...                                                 ...  \n",
       "6359                              820 Main St, Silt, CO  \n",
       "6360                      457 W Main St, New Castle, CO  \n",
       "6361                 40 Market St, Glenwood Springs, CO  \n",
       "6362                    23258 Two Rivers Rd, Basalt, CO  \n",
       "6363                        524 Main St, Carbondale, CO  \n",
       "\n",
       "[6364 rows x 4 columns]"
      ]
     },
     "execution_count": 215,
     "metadata": {},
     "output_type": "execute_result"
    }
   ],
   "source": [
    "df = pd.DataFrame({'restaurant_name': name,\n",
    "                   'dave_scores': dave_scores,\n",
    "                   'user_scores': user_scores,\n",
    "                   'address': address})\n",
    "\n",
    "df"
   ]
  },
  {
   "cell_type": "code",
   "execution_count": 293,
   "metadata": {},
   "outputs": [
    {
     "data": {
      "text/plain": [
       "29101"
      ]
     },
     "execution_count": 293,
     "metadata": {},
     "output_type": "execute_result"
    }
   ],
   "source": [
    "len(dave_scores)"
   ]
  },
  {
   "cell_type": "code",
   "execution_count": 283,
   "metadata": {},
   "outputs": [
    {
     "data": {
      "text/plain": [
       "<Response [200]>"
      ]
     },
     "execution_count": 283,
     "metadata": {},
     "output_type": "execute_result"
    }
   ],
   "source": [
    "r"
   ]
  },
  {
   "cell_type": "code",
   "execution_count": 289,
   "metadata": {},
   "outputs": [
    {
     "name": "stdout",
     "output_type": "stream",
     "text": [
      "24\n"
     ]
    }
   ],
   "source": [
    "for i in range(25):\n",
    "    \n",
    "    clear_output()\n",
    "    print(i)\n",
    "    time.sleep(0.5)"
   ]
  },
  {
   "cell_type": "code",
   "execution_count": 287,
   "metadata": {},
   "outputs": [
    {
     "name": "stdout",
     "output_type": "stream",
     "text": [
      "Hello World!\n"
     ]
    }
   ],
   "source": [
    "from IPython.display import clear_output\n",
    "\n",
    "for i in range(10):\n",
    "    clear_output()\n",
    "    print(\"Hello World!\")"
   ]
  },
  {
   "cell_type": "code",
   "execution_count": null,
   "metadata": {},
   "outputs": [],
   "source": []
  }
 ],
 "metadata": {
  "kernelspec": {
   "display_name": "Python 3",
   "language": "python",
   "name": "python3"
  },
  "language_info": {
   "codemirror_mode": {
    "name": "ipython",
    "version": 3
   },
   "file_extension": ".py",
   "mimetype": "text/x-python",
   "name": "python",
   "nbconvert_exporter": "python",
   "pygments_lexer": "ipython3",
   "version": "3.7.6"
  }
 },
 "nbformat": 4,
 "nbformat_minor": 4
}
