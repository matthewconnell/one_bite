{
 "cells": [
  {
   "cell_type": "code",
   "execution_count": 13,
   "metadata": {},
   "outputs": [],
   "source": [
    "import pandas as pd\n",
    "import requests\n",
    "from bs4 import BeautifulSoup\n",
    "import time"
   ]
  },
  {
   "cell_type": "code",
   "execution_count": 24,
   "metadata": {},
   "outputs": [],
   "source": [
    "links = pd.read_csv('../data/links.csv', names = ['link'], skiprows=1)"
   ]
  },
  {
   "cell_type": "code",
   "execution_count": 25,
   "metadata": {},
   "outputs": [
    {
     "data": {
      "text/html": [
       "<div>\n",
       "<style scoped>\n",
       "    .dataframe tbody tr th:only-of-type {\n",
       "        vertical-align: middle;\n",
       "    }\n",
       "\n",
       "    .dataframe tbody tr th {\n",
       "        vertical-align: top;\n",
       "    }\n",
       "\n",
       "    .dataframe thead th {\n",
       "        text-align: right;\n",
       "    }\n",
       "</style>\n",
       "<table border=\"1\" class=\"dataframe\">\n",
       "  <thead>\n",
       "    <tr style=\"text-align: right;\">\n",
       "      <th></th>\n",
       "      <th>link</th>\n",
       "    </tr>\n",
       "  </thead>\n",
       "  <tbody>\n",
       "    <tr>\n",
       "      <th>0</th>\n",
       "      <td>https://onebite.app/restaurant/pizza-hut-adana...</td>\n",
       "    </tr>\n",
       "    <tr>\n",
       "      <th>1</th>\n",
       "      <td>https://onebite.app/restaurant/del-sole-01-472...</td>\n",
       "    </tr>\n",
       "    <tr>\n",
       "      <th>2</th>\n",
       "      <td>https://onebite.app/restaurant/lava-lounge-piz...</td>\n",
       "    </tr>\n",
       "    <tr>\n",
       "      <th>3</th>\n",
       "      <td>https://onebite.app/restaurant/pizzaria-cosa-n...</td>\n",
       "    </tr>\n",
       "    <tr>\n",
       "      <th>4</th>\n",
       "      <td>https://onebite.app/restaurant/olivia-tjuvholm...</td>\n",
       "    </tr>\n",
       "    <tr>\n",
       "      <th>...</th>\n",
       "      <td>...</td>\n",
       "    </tr>\n",
       "    <tr>\n",
       "      <th>50582</th>\n",
       "      <td>https://onebite.app/restaurant/very-italian-pi...</td>\n",
       "    </tr>\n",
       "    <tr>\n",
       "      <th>50583</th>\n",
       "      <td>https://onebite.app/restaurant/donatellos-leid...</td>\n",
       "    </tr>\n",
       "    <tr>\n",
       "      <th>50584</th>\n",
       "      <td>https://onebite.app/restaurant/santa-lucia-lim...</td>\n",
       "    </tr>\n",
       "    <tr>\n",
       "      <th>50585</th>\n",
       "      <td>https://onebite.app/restaurant/pizze-pronto-sc...</td>\n",
       "    </tr>\n",
       "    <tr>\n",
       "      <th>50586</th>\n",
       "      <td>https://onebite.app/restaurant/luigia-zurich-z...</td>\n",
       "    </tr>\n",
       "  </tbody>\n",
       "</table>\n",
       "<p>50587 rows × 1 columns</p>\n",
       "</div>"
      ],
      "text/plain": [
       "                                                    link\n",
       "0      https://onebite.app/restaurant/pizza-hut-adana...\n",
       "1      https://onebite.app/restaurant/del-sole-01-472...\n",
       "2      https://onebite.app/restaurant/lava-lounge-piz...\n",
       "3      https://onebite.app/restaurant/pizzaria-cosa-n...\n",
       "4      https://onebite.app/restaurant/olivia-tjuvholm...\n",
       "...                                                  ...\n",
       "50582  https://onebite.app/restaurant/very-italian-pi...\n",
       "50583  https://onebite.app/restaurant/donatellos-leid...\n",
       "50584  https://onebite.app/restaurant/santa-lucia-lim...\n",
       "50585  https://onebite.app/restaurant/pizze-pronto-sc...\n",
       "50586  https://onebite.app/restaurant/luigia-zurich-z...\n",
       "\n",
       "[50587 rows x 1 columns]"
      ]
     },
     "execution_count": 25,
     "metadata": {},
     "output_type": "execute_result"
    }
   ],
   "source": [
    "links"
   ]
  },
  {
   "cell_type": "code",
   "execution_count": 177,
   "metadata": {},
   "outputs": [],
   "source": []
  },
  {
   "cell_type": "code",
   "execution_count": 193,
   "metadata": {},
   "outputs": [],
   "source": [
    "links2 = links[:10]\n",
    "\n",
    "dave_scores = []\n",
    "user_scores = []\n",
    "restaurant = []\n",
    "address = []\n",
    "\n",
    "for link in list(links2['link']):\n",
    "    \n",
    "    r = requests.get(link)\n",
    "    bs = BeautifulSoup(r.text)\n",
    "    \n",
    "    temp = []\n",
    "    \n",
    "    for elem in bs.find_all('a'):\n",
    "        if 'jsx-84601126' in (elem.attrs['class']):\n",
    "            temp.append(elem.text)\n",
    "\n",
    "    name.append(temp[0])\n",
    "    address.append(temp[1])\n",
    "    \n",
    "    temp2 = []\n",
    "    \n",
    "    for elem in bs.find_all('span'):\n",
    "        if 'score' in (elem.attrs['class']):\n",
    "            temp2.append(elem.text)\n",
    "            \n",
    "    dave_scores.append(temp2[0])\n",
    "    user_scores.append(temp2[1])"
   ]
  },
  {
   "cell_type": "code",
   "execution_count": 195,
   "metadata": {},
   "outputs": [
    {
     "data": {
      "text/plain": [
       "['0.0', '0.0', '0.0', '0.0', '0.0', '0.0', '0.0', '0.0', '0.0', '0.0']"
      ]
     },
     "execution_count": 195,
     "metadata": {},
     "output_type": "execute_result"
    }
   ],
   "source": [
    "dave_scores"
   ]
  },
  {
   "cell_type": "code",
   "execution_count": null,
   "metadata": {},
   "outputs": [],
   "source": []
  },
  {
   "cell_type": "code",
   "execution_count": null,
   "metadata": {},
   "outputs": [],
   "source": []
  },
  {
   "cell_type": "code",
   "execution_count": null,
   "metadata": {},
   "outputs": [],
   "source": []
  },
  {
   "cell_type": "code",
   "execution_count": null,
   "metadata": {},
   "outputs": [],
   "source": []
  }
 ],
 "metadata": {
  "kernelspec": {
   "display_name": "Python 3",
   "language": "python",
   "name": "python3"
  },
  "language_info": {
   "codemirror_mode": {
    "name": "ipython",
    "version": 3
   },
   "file_extension": ".py",
   "mimetype": "text/x-python",
   "name": "python",
   "nbconvert_exporter": "python",
   "pygments_lexer": "ipython3",
   "version": "3.7.6"
  }
 },
 "nbformat": 4,
 "nbformat_minor": 4
}
