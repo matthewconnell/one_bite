{
 "cells": [
  {
   "cell_type": "code",
   "execution_count": 13,
   "metadata": {},
   "outputs": [],
   "source": [
    "import pandas as pd\n",
    "import requests\n",
    "from bs4 import BeautifulSoup\n",
    "import time"
   ]
  },
  {
   "cell_type": "code",
   "execution_count": 24,
   "metadata": {},
   "outputs": [],
   "source": [
    "links = pd.read_csv('../data/links.csv', names = ['link'], skiprows=1)"
   ]
  },
  {
   "cell_type": "code",
   "execution_count": 25,
   "metadata": {},
   "outputs": [
    {
     "data": {
      "text/html": [
       "<div>\n",
       "<style scoped>\n",
       "    .dataframe tbody tr th:only-of-type {\n",
       "        vertical-align: middle;\n",
       "    }\n",
       "\n",
       "    .dataframe tbody tr th {\n",
       "        vertical-align: top;\n",
       "    }\n",
       "\n",
       "    .dataframe thead th {\n",
       "        text-align: right;\n",
       "    }\n",
       "</style>\n",
       "<table border=\"1\" class=\"dataframe\">\n",
       "  <thead>\n",
       "    <tr style=\"text-align: right;\">\n",
       "      <th></th>\n",
       "      <th>link</th>\n",
       "    </tr>\n",
       "  </thead>\n",
       "  <tbody>\n",
       "    <tr>\n",
       "      <th>0</th>\n",
       "      <td>https://onebite.app/restaurant/pizza-hut-adana...</td>\n",
       "    </tr>\n",
       "    <tr>\n",
       "      <th>1</th>\n",
       "      <td>https://onebite.app/restaurant/del-sole-01-472...</td>\n",
       "    </tr>\n",
       "    <tr>\n",
       "      <th>2</th>\n",
       "      <td>https://onebite.app/restaurant/lava-lounge-piz...</td>\n",
       "    </tr>\n",
       "    <tr>\n",
       "      <th>3</th>\n",
       "      <td>https://onebite.app/restaurant/pizzaria-cosa-n...</td>\n",
       "    </tr>\n",
       "    <tr>\n",
       "      <th>4</th>\n",
       "      <td>https://onebite.app/restaurant/olivia-tjuvholm...</td>\n",
       "    </tr>\n",
       "    <tr>\n",
       "      <th>...</th>\n",
       "      <td>...</td>\n",
       "    </tr>\n",
       "    <tr>\n",
       "      <th>50582</th>\n",
       "      <td>https://onebite.app/restaurant/very-italian-pi...</td>\n",
       "    </tr>\n",
       "    <tr>\n",
       "      <th>50583</th>\n",
       "      <td>https://onebite.app/restaurant/donatellos-leid...</td>\n",
       "    </tr>\n",
       "    <tr>\n",
       "      <th>50584</th>\n",
       "      <td>https://onebite.app/restaurant/santa-lucia-lim...</td>\n",
       "    </tr>\n",
       "    <tr>\n",
       "      <th>50585</th>\n",
       "      <td>https://onebite.app/restaurant/pizze-pronto-sc...</td>\n",
       "    </tr>\n",
       "    <tr>\n",
       "      <th>50586</th>\n",
       "      <td>https://onebite.app/restaurant/luigia-zurich-z...</td>\n",
       "    </tr>\n",
       "  </tbody>\n",
       "</table>\n",
       "<p>50587 rows × 1 columns</p>\n",
       "</div>"
      ],
      "text/plain": [
       "                                                    link\n",
       "0      https://onebite.app/restaurant/pizza-hut-adana...\n",
       "1      https://onebite.app/restaurant/del-sole-01-472...\n",
       "2      https://onebite.app/restaurant/lava-lounge-piz...\n",
       "3      https://onebite.app/restaurant/pizzaria-cosa-n...\n",
       "4      https://onebite.app/restaurant/olivia-tjuvholm...\n",
       "...                                                  ...\n",
       "50582  https://onebite.app/restaurant/very-italian-pi...\n",
       "50583  https://onebite.app/restaurant/donatellos-leid...\n",
       "50584  https://onebite.app/restaurant/santa-lucia-lim...\n",
       "50585  https://onebite.app/restaurant/pizze-pronto-sc...\n",
       "50586  https://onebite.app/restaurant/luigia-zurich-z...\n",
       "\n",
       "[50587 rows x 1 columns]"
      ]
     },
     "execution_count": 25,
     "metadata": {},
     "output_type": "execute_result"
    }
   ],
   "source": [
    "links"
   ]
  },
  {
   "cell_type": "code",
   "execution_count": 142,
   "metadata": {},
   "outputs": [],
   "source": [
    "a = links['link'][50586]"
   ]
  },
  {
   "cell_type": "code",
   "execution_count": 143,
   "metadata": {},
   "outputs": [
    {
     "data": {
      "text/plain": [
       "'https://onebite.app/restaurant/luigia-zurich-zh-851254c3'"
      ]
     },
     "execution_count": 143,
     "metadata": {},
     "output_type": "execute_result"
    }
   ],
   "source": [
    "a"
   ]
  },
  {
   "cell_type": "code",
   "execution_count": 29,
   "metadata": {},
   "outputs": [],
   "source": [
    "r = requests.get(a)"
   ]
  },
  {
   "cell_type": "code",
   "execution_count": 34,
   "metadata": {},
   "outputs": [],
   "source": [
    "bs = BeautifulSoup(r.text)"
   ]
  },
  {
   "cell_type": "code",
   "execution_count": 49,
   "metadata": {},
   "outputs": [
    {
     "name": "stdout",
     "output_type": "stream",
     "text": [
      "Home\n",
      "None\n",
      "Top Restaurants\n",
      "None\n",
      "Pizza Hut\n",
      "None\n",
      "Dave\n",
      "0.0\n",
      "None\n",
      " \n",
      "Community\n",
      "2.7\n",
      "None\n",
      "2 likes\n",
      "Mon\n",
      "1:00 PM - 10:00 PM\n",
      "Tue\n",
      "1:00 PM - 10:00 PM\n",
      "Wed\n",
      "1:00 PM - 10:00 PM\n",
      "Thu\n",
      "1:00 PM - 10:00 PM\n",
      "Fri\n",
      "1:00 PM - 10:00 PM\n",
      "Sat\n",
      "1:00 PM - 10:00 PM\n",
      "Sun\n",
      "1:00 PM - 10:00 PM\n",
      "sammy.courtney\n",
      "7/23/19, 9:41 a.m.\n",
      "37 views\n",
      "•\n",
      "2 likes\n",
      "bailey.redlinger\n",
      "1/24/19, 9:10 a.m.\n",
      "0 likes\n"
     ]
    }
   ],
   "source": [
    "for s in bs.find_all('span'):\n",
    "    print(s.string)"
   ]
  },
  {
   "cell_type": "code",
   "execution_count": 148,
   "metadata": {},
   "outputs": [],
   "source": [
    "for s in bs.find_all('a'):\n",
    "    if '84601126' in (s.attrs['class']):\n",
    "        print(s.text)"
   ]
  },
  {
   "cell_type": "code",
   "execution_count": 153,
   "metadata": {},
   "outputs": [
    {
     "name": "stdout",
     "output_type": "stream",
     "text": [
      "Pizza Hut\n",
      "213. Sok., Adana, 01\n"
     ]
    }
   ],
   "source": [
    "for s in bs.find_all('a'):\n",
    "    if 'jsx-84601126' in (s.attrs['class']):\n",
    "        print(s.text)"
   ]
  },
  {
   "cell_type": "code",
   "execution_count": null,
   "metadata": {},
   "outputs": [],
   "source": []
  },
  {
   "cell_type": "code",
   "execution_count": 135,
   "metadata": {},
   "outputs": [
    {
     "name": "stdout",
     "output_type": "stream",
     "text": [
      "0.0\n",
      "2.7\n"
     ]
    }
   ],
   "source": [
    "for s in bs.find_all('span'):\n",
    "    if 'score' in s.attrs['class']:\n",
    "        print(s.next)"
   ]
  },
  {
   "cell_type": "code",
   "execution_count": 129,
   "metadata": {},
   "outputs": [
    {
     "data": {
      "text/plain": [
       "<generator object PageElement.next_elements at 0x117fe5ed0>"
      ]
     },
     "execution_count": 129,
     "metadata": {},
     "output_type": "execute_result"
    }
   ],
   "source": [
    "s.next_elements"
   ]
  },
  {
   "cell_type": "code",
   "execution_count": 126,
   "metadata": {},
   "outputs": [
    {
     "data": {
      "text/plain": [
       "'0 likes'"
      ]
     },
     "execution_count": 126,
     "metadata": {},
     "output_type": "execute_result"
    }
   ],
   "source": [
    "s.next_element"
   ]
  },
  {
   "cell_type": "code",
   "execution_count": 137,
   "metadata": {},
   "outputs": [
    {
     "name": "stdout",
     "output_type": "stream",
     "text": [
      "<span class=\"jsx-3358343937\">Home</span>\n",
      "<span class=\"jsx-3358343937 arrow\"><svg style=\"width:9px;height:12px;transform:rotate(90deg)\" viewbox=\"0 0 24 24\"><defs></defs><g fill=\"none\" fill-rule=\"evenodd\" stroke=\"none\" stroke-width=\"1\"><mask fill=\"white\" id=\"arrow-mask-2\"><use href=\"#arrow-path-1\"></use></mask><g transform=\"translate(2.000000, 6.000000)\"><path d=\"M10,3.99427406 L1.99918201,11.9950921 L-2.73558953e-13,9.99591004 L9.99591004,-2.73780998e-13 L10,0.00408995583 L10.00409,-2.77111667e-13 L20,9.99591004 L18.000818,11.9950921 L10,3.99427406 Z\" fill=\"#999999\" id=\"arrow-path-1\"></path></g></g></svg></span>\n",
      "<span class=\"jsx-3358343937\">Top Restaurants</span>\n",
      "<span class=\"jsx-3358343937 arrow\"><svg style=\"width:9px;height:12px;transform:rotate(90deg)\" viewbox=\"0 0 24 24\"><defs></defs><g fill=\"none\" fill-rule=\"evenodd\" stroke=\"none\" stroke-width=\"1\"><mask fill=\"white\" id=\"arrow-mask-2\"><use href=\"#arrow-path-1\"></use></mask><g transform=\"translate(2.000000, 6.000000)\"><path d=\"M10,3.99427406 L1.99918201,11.9950921 L-2.73558953e-13,9.99591004 L9.99591004,-2.73780998e-13 L10,0.00408995583 L10.00409,-2.77111667e-13 L20,9.99591004 L18.000818,11.9950921 L10,3.99427406 Z\" fill=\"#999999\" id=\"arrow-path-1\"></path></g></g></svg></span>\n",
      "<span class=\"jsx-3358343937\">Pizza Hut</span>\n",
      "<span class=\"jsx-3358343937 arrow\"><svg style=\"width:9px;height:12px;transform:rotate(90deg)\" viewbox=\"0 0 24 24\"><defs></defs><g fill=\"none\" fill-rule=\"evenodd\" stroke=\"none\" stroke-width=\"1\"><mask fill=\"white\" id=\"arrow-mask-2\"><use href=\"#arrow-path-1\"></use></mask><g transform=\"translate(2.000000, 6.000000)\"><path d=\"M10,3.99427406 L1.99918201,11.9950921 L-2.73558953e-13,9.99591004 L9.99591004,-2.73780998e-13 L10,0.00408995583 L10.00409,-2.77111667e-13 L20,9.99591004 L18.000818,11.9950921 L10,3.99427406 Z\" fill=\"#999999\" id=\"arrow-path-1\"></path></g></g></svg></span>\n",
      "<span class=\"jsx-3903462735 ratingType\">Dave</span>\n",
      "<span class=\"jsx-3903462735 score\">0.0</span>\n",
      "<span class=\"jsx-3903462735 barProgress\" style=\"width:0%\"></span>\n",
      "<span class=\"jsx-1258670469 divider\"> </span>\n",
      "<span class=\"jsx-3903462735 ratingType\">Community</span>\n",
      "<span class=\"jsx-3903462735 score\">2.7</span>\n",
      "<span class=\"jsx-3903462735 barProgress\" style=\"width:27%\"></span>\n",
      "<span class=\"jsx-2370003767 reviewLikes\">2 likes</span>\n",
      "<span class=\"jsx-699014147 day\">Mon</span>\n",
      "<span class=\"jsx-699014147\">1:00 PM - 10:00 PM</span>\n",
      "<span class=\"jsx-699014147 day\">Tue</span>\n",
      "<span class=\"jsx-699014147\">1:00 PM - 10:00 PM</span>\n",
      "<span class=\"jsx-699014147 day\">Wed</span>\n",
      "<span class=\"jsx-699014147\">1:00 PM - 10:00 PM</span>\n",
      "<span class=\"jsx-699014147 day\">Thu</span>\n",
      "<span class=\"jsx-699014147\">1:00 PM - 10:00 PM</span>\n",
      "<span class=\"jsx-699014147 day\">Fri</span>\n",
      "<span class=\"jsx-699014147\">1:00 PM - 10:00 PM</span>\n",
      "<span class=\"jsx-699014147 day\">Sat</span>\n",
      "<span class=\"jsx-699014147\">1:00 PM - 10:00 PM</span>\n",
      "<span class=\"jsx-699014147 day\">Sun</span>\n",
      "<span class=\"jsx-699014147\">1:00 PM - 10:00 PM</span>\n",
      "<span class=\"jsx-3789615319 username\">sammy.courtney</span>\n",
      "<span class=\"jsx-3789615319 date\">7/23/19, 9:41 a.m.</span>\n",
      "<span class=\"jsx-3789615319\">37 views</span>\n",
      "<span class=\"jsx-3789615319\">•</span>\n",
      "<span class=\"jsx-3789615319\">2 likes</span>\n",
      "<span class=\"jsx-3789615319 username\">bailey.redlinger</span>\n",
      "<span class=\"jsx-3789615319 date\">1/24/19, 9:10 a.m.</span>\n",
      "<span class=\"jsx-3789615319\">0 likes</span>\n"
     ]
    }
   ],
   "source": [
    "for s in bs.find_all('span'):\n",
    "    print(s)"
   ]
  },
  {
   "cell_type": "code",
   "execution_count": null,
   "metadata": {},
   "outputs": [],
   "source": []
  }
 ],
 "metadata": {
  "kernelspec": {
   "display_name": "Python 3",
   "language": "python",
   "name": "python3"
  },
  "language_info": {
   "codemirror_mode": {
    "name": "ipython",
    "version": 3
   },
   "file_extension": ".py",
   "mimetype": "text/x-python",
   "name": "python",
   "nbconvert_exporter": "python",
   "pygments_lexer": "ipython3",
   "version": "3.7.6"
  }
 },
 "nbformat": 4,
 "nbformat_minor": 4
}
