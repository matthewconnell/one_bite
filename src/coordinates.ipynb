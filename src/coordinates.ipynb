{
 "cells": [
  {
   "cell_type": "code",
   "execution_count": 101,
   "metadata": {},
   "outputs": [],
   "source": [
    "import pandas as pd\n",
    "import requests\n",
    "import os\n",
    "import ipykernel.iostream\n",
    "import sys\n",
    "\n",
    "from IPython.display import clear_output"
   ]
  },
  {
   "cell_type": "code",
   "execution_count": 102,
   "metadata": {},
   "outputs": [
    {
     "data": {
      "text/html": [
       "<div>\n",
       "<style scoped>\n",
       "    .dataframe tbody tr th:only-of-type {\n",
       "        vertical-align: middle;\n",
       "    }\n",
       "\n",
       "    .dataframe tbody tr th {\n",
       "        vertical-align: top;\n",
       "    }\n",
       "\n",
       "    .dataframe thead th {\n",
       "        text-align: right;\n",
       "    }\n",
       "</style>\n",
       "<table border=\"1\" class=\"dataframe\">\n",
       "  <thead>\n",
       "    <tr style=\"text-align: right;\">\n",
       "      <th></th>\n",
       "      <th>restaurant_name</th>\n",
       "      <th>dave_scores</th>\n",
       "      <th>user_scores</th>\n",
       "      <th>address</th>\n",
       "    </tr>\n",
       "  </thead>\n",
       "  <tbody>\n",
       "    <tr>\n",
       "      <th>0</th>\n",
       "      <td>Pizza Hut</td>\n",
       "      <td>0.0</td>\n",
       "      <td>2.7</td>\n",
       "      <td>213. Sok., Adana, 01</td>\n",
       "    </tr>\n",
       "    <tr>\n",
       "      <th>1</th>\n",
       "      <td>Del sole</td>\n",
       "      <td>0.0</td>\n",
       "      <td>7.3</td>\n",
       "      <td>字ニセコ483-1, 虻田郡, 01</td>\n",
       "    </tr>\n",
       "    <tr>\n",
       "      <th>2</th>\n",
       "      <td>Lava Lounge Pizza Niseko</td>\n",
       "      <td>0.0</td>\n",
       "      <td>4.2</td>\n",
       "      <td>倶知安町字山田191-19, 虻田郡, 01</td>\n",
       "    </tr>\n",
       "    <tr>\n",
       "      <th>3</th>\n",
       "      <td>Pizzaria Cosa Nostra</td>\n",
       "      <td>0.0</td>\n",
       "      <td>8.5</td>\n",
       "      <td>R. Custódio Brás Pacheco, 1, Vila Nova de Milf...</td>\n",
       "    </tr>\n",
       "    <tr>\n",
       "      <th>4</th>\n",
       "      <td>Olivia Tjuvholmen</td>\n",
       "      <td>0.0</td>\n",
       "      <td>8.4</td>\n",
       "      <td>Bryggegangen 4, Oslo, 03</td>\n",
       "    </tr>\n",
       "    <tr>\n",
       "      <th>...</th>\n",
       "      <td>...</td>\n",
       "      <td>...</td>\n",
       "      <td>...</td>\n",
       "      <td>...</td>\n",
       "    </tr>\n",
       "    <tr>\n",
       "      <th>50582</th>\n",
       "      <td>Very Italian Pizza</td>\n",
       "      <td>0.0</td>\n",
       "      <td>7.4</td>\n",
       "      <td>Turfmarkt 8, Leiden, ZH</td>\n",
       "    </tr>\n",
       "    <tr>\n",
       "      <th>50583</th>\n",
       "      <td>Donatello's</td>\n",
       "      <td>0.0</td>\n",
       "      <td>6.2</td>\n",
       "      <td>Haarlemerstraat 20, Leiden, ZH</td>\n",
       "    </tr>\n",
       "    <tr>\n",
       "      <th>50584</th>\n",
       "      <td>Santa Lucia Limmatplatz</td>\n",
       "      <td>0.0</td>\n",
       "      <td>6.8</td>\n",
       "      <td>Luisenstrasse 31, Zürich, ZH</td>\n",
       "    </tr>\n",
       "    <tr>\n",
       "      <th>50585</th>\n",
       "      <td>Pizze Pronto</td>\n",
       "      <td>0.0</td>\n",
       "      <td>7.7</td>\n",
       "      <td>Schoolstraat 1, Schiedam, ZH</td>\n",
       "    </tr>\n",
       "    <tr>\n",
       "      <th>50586</th>\n",
       "      <td>Luigia</td>\n",
       "      <td>0.0</td>\n",
       "      <td>8.9</td>\n",
       "      <td>Talstrasse 61, Zürich, ZH</td>\n",
       "    </tr>\n",
       "  </tbody>\n",
       "</table>\n",
       "<p>50587 rows × 4 columns</p>\n",
       "</div>"
      ],
      "text/plain": [
       "                restaurant_name  dave_scores  user_scores  \\\n",
       "0                     Pizza Hut          0.0          2.7   \n",
       "1                      Del sole          0.0          7.3   \n",
       "2      Lava Lounge Pizza Niseko          0.0          4.2   \n",
       "3          Pizzaria Cosa Nostra          0.0          8.5   \n",
       "4             Olivia Tjuvholmen          0.0          8.4   \n",
       "...                         ...          ...          ...   \n",
       "50582        Very Italian Pizza          0.0          7.4   \n",
       "50583               Donatello's          0.0          6.2   \n",
       "50584   Santa Lucia Limmatplatz          0.0          6.8   \n",
       "50585              Pizze Pronto          0.0          7.7   \n",
       "50586                    Luigia          0.0          8.9   \n",
       "\n",
       "                                                 address  \n",
       "0                                   213. Sok., Adana, 01  \n",
       "1                                     字ニセコ483-1, 虻田郡, 01  \n",
       "2                                 倶知安町字山田191-19, 虻田郡, 01  \n",
       "3      R. Custódio Brás Pacheco, 1, Vila Nova de Milf...  \n",
       "4                               Bryggegangen 4, Oslo, 03  \n",
       "...                                                  ...  \n",
       "50582                            Turfmarkt 8, Leiden, ZH  \n",
       "50583                     Haarlemerstraat 20, Leiden, ZH  \n",
       "50584                       Luisenstrasse 31, Zürich, ZH  \n",
       "50585                       Schoolstraat 1, Schiedam, ZH  \n",
       "50586                          Talstrasse 61, Zürich, ZH  \n",
       "\n",
       "[50587 rows x 4 columns]"
      ]
     },
     "execution_count": 102,
     "metadata": {},
     "output_type": "execute_result"
    }
   ],
   "source": [
    "df = pd.read_csv(\"../data/reviews.csv\", index_col=\"Unnamed: 0\")\n",
    "df"
   ]
  },
  {
   "cell_type": "code",
   "execution_count": 4,
   "metadata": {},
   "outputs": [],
   "source": [
    "# TODO: Use Google Maps API to geocode the address info"
   ]
  },
  {
   "cell_type": "code",
   "execution_count": 58,
   "metadata": {},
   "outputs": [],
   "source": [
    "KEY = os.getenv('MAPBOX_TOKEN')"
   ]
  },
  {
   "cell_type": "code",
   "execution_count": 70,
   "metadata": {},
   "outputs": [],
   "source": [
    "KEY = KEY[:-1]"
   ]
  },
  {
   "cell_type": "code",
   "execution_count": 114,
   "metadata": {},
   "outputs": [],
   "source": [
    "latitudes0 = latitudes[:12244]\n",
    "longitudes0 = longitudes[:12244]"
   ]
  },
  {
   "cell_type": "code",
   "execution_count": 117,
   "metadata": {},
   "outputs": [
    {
     "name": "stdout",
     "output_type": "stream",
     "text": [
      "50586\n"
     ]
    }
   ],
   "source": [
    "BASE = \"https://api.mapbox.com/geocoding/v5/mapbox.places/\"\n",
    "\n",
    "latitudes = []\n",
    "longitudes = []\n",
    "\n",
    "for i in range(12244, df.shape[0]):\n",
    "    \n",
    "    ADDRESS = df['address'][i]\n",
    "    url = \"{}{}.json?access_token={}\".format(BASE, ADDRESS, KEY)\n",
    "    \n",
    "    r = requests.get(url)\n",
    "    \n",
    "    if r.status_code == 200:\n",
    "    \n",
    "        if len(r.json()['features']) > 0:\n",
    "        \n",
    "            result = r.json()['features'][0]\n",
    "\n",
    "            coordinates = result['geometry']['coordinates']\n",
    "\n",
    "            latitudes.append(coordinates[0])\n",
    "            longitudes.append(coordinates[1])\n",
    "            \n",
    "        else:\n",
    "            \n",
    "            latitudes.append(0)\n",
    "            longitudes.append(0)\n",
    "        \n",
    "    else:\n",
    "        \n",
    "        latitudes.append(0)\n",
    "        longitudes.append(0)\n",
    "    \n",
    "    clear_output()\n",
    "    print(i)"
   ]
  },
  {
   "cell_type": "code",
   "execution_count": 118,
   "metadata": {},
   "outputs": [
    {
     "data": {
      "text/plain": [
       "50587"
      ]
     },
     "execution_count": 118,
     "metadata": {},
     "output_type": "execute_result"
    }
   ],
   "source": [
    "len(df)"
   ]
  },
  {
   "cell_type": "code",
   "execution_count": 120,
   "metadata": {},
   "outputs": [
    {
     "data": {
      "text/plain": [
       "50587"
      ]
     },
     "execution_count": 120,
     "metadata": {},
     "output_type": "execute_result"
    }
   ],
   "source": [
    "len(latitudes) + len(latitudes0)"
   ]
  },
  {
   "cell_type": "code",
   "execution_count": 54,
   "metadata": {},
   "outputs": [
    {
     "name": "stderr",
     "output_type": "stream",
     "text": [
      "/Users/matt/anaconda3/lib/python3.7/site-packages/ipykernel_launcher.py:3: SettingWithCopyWarning: \n",
      "A value is trying to be set on a copy of a slice from a DataFrame.\n",
      "Try using .loc[row_indexer,col_indexer] = value instead\n",
      "\n",
      "See the caveats in the documentation: https://pandas.pydata.org/pandas-docs/stable/user_guide/indexing.html#returning-a-view-versus-a-copy\n",
      "  This is separate from the ipykernel package so we can avoid doing imports until\n",
      "/Users/matt/anaconda3/lib/python3.7/site-packages/ipykernel_launcher.py:4: SettingWithCopyWarning: \n",
      "A value is trying to be set on a copy of a slice from a DataFrame.\n",
      "Try using .loc[row_indexer,col_indexer] = value instead\n",
      "\n",
      "See the caveats in the documentation: https://pandas.pydata.org/pandas-docs/stable/user_guide/indexing.html#returning-a-view-versus-a-copy\n",
      "  after removing the cwd from sys.path.\n"
     ]
    },
    {
     "data": {
      "text/html": [
       "<div>\n",
       "<style scoped>\n",
       "    .dataframe tbody tr th:only-of-type {\n",
       "        vertical-align: middle;\n",
       "    }\n",
       "\n",
       "    .dataframe tbody tr th {\n",
       "        vertical-align: top;\n",
       "    }\n",
       "\n",
       "    .dataframe thead th {\n",
       "        text-align: right;\n",
       "    }\n",
       "</style>\n",
       "<table border=\"1\" class=\"dataframe\">\n",
       "  <thead>\n",
       "    <tr style=\"text-align: right;\">\n",
       "      <th></th>\n",
       "      <th>restaurant_name</th>\n",
       "      <th>dave_scores</th>\n",
       "      <th>user_scores</th>\n",
       "      <th>address</th>\n",
       "      <th>lat</th>\n",
       "      <th>long</th>\n",
       "    </tr>\n",
       "  </thead>\n",
       "  <tbody>\n",
       "    <tr>\n",
       "      <th>0</th>\n",
       "      <td>Pizza Hut</td>\n",
       "      <td>0.0</td>\n",
       "      <td>2.7</td>\n",
       "      <td>213. Sok., Adana, 01</td>\n",
       "      <td>37.038584</td>\n",
       "      <td>35.293044</td>\n",
       "    </tr>\n",
       "    <tr>\n",
       "      <th>1</th>\n",
       "      <td>Del sole</td>\n",
       "      <td>0.0</td>\n",
       "      <td>7.3</td>\n",
       "      <td>字ニセコ483-1, 虻田郡, 01</td>\n",
       "      <td>42.847092</td>\n",
       "      <td>140.646027</td>\n",
       "    </tr>\n",
       "    <tr>\n",
       "      <th>2</th>\n",
       "      <td>Lava Lounge Pizza Niseko</td>\n",
       "      <td>0.0</td>\n",
       "      <td>4.2</td>\n",
       "      <td>倶知安町字山田191-19, 虻田郡, 01</td>\n",
       "      <td>42.860427</td>\n",
       "      <td>140.704820</td>\n",
       "    </tr>\n",
       "    <tr>\n",
       "      <th>3</th>\n",
       "      <td>Pizzaria Cosa Nostra</td>\n",
       "      <td>0.0</td>\n",
       "      <td>8.5</td>\n",
       "      <td>R. Custódio Brás Pacheco, 1, Vila Nova de Milf...</td>\n",
       "      <td>37.724982</td>\n",
       "      <td>-8.781222</td>\n",
       "    </tr>\n",
       "    <tr>\n",
       "      <th>4</th>\n",
       "      <td>Olivia Tjuvholmen</td>\n",
       "      <td>0.0</td>\n",
       "      <td>8.4</td>\n",
       "      <td>Bryggegangen 4, Oslo, 03</td>\n",
       "      <td>59.908719</td>\n",
       "      <td>10.722541</td>\n",
       "    </tr>\n",
       "    <tr>\n",
       "      <th>5</th>\n",
       "      <td>Mamma Pizza Osteria</td>\n",
       "      <td>0.0</td>\n",
       "      <td>9.7</td>\n",
       "      <td>Dronningens gate 22, Oslo, 03</td>\n",
       "      <td>59.910741</td>\n",
       "      <td>10.746835</td>\n",
       "    </tr>\n",
       "    <tr>\n",
       "      <th>6</th>\n",
       "      <td>Villa Paradiso Frogner</td>\n",
       "      <td>0.0</td>\n",
       "      <td>9.5</td>\n",
       "      <td>Sommerrogata 17, Oslo, 03</td>\n",
       "      <td>59.915010</td>\n",
       "      <td>10.717962</td>\n",
       "    </tr>\n",
       "    <tr>\n",
       "      <th>7</th>\n",
       "      <td>Balkan Pizza &amp; Kebabhouse</td>\n",
       "      <td>0.0</td>\n",
       "      <td>9.3</td>\n",
       "      <td>Mauritz Hansens gate 5, Oslo, 03</td>\n",
       "      <td>59.921419</td>\n",
       "      <td>10.732247</td>\n",
       "    </tr>\n",
       "    <tr>\n",
       "      <th>8</th>\n",
       "      <td>Pizza Pili</td>\n",
       "      <td>0.0</td>\n",
       "      <td>9.2</td>\n",
       "      <td>24 Rue Benoit Bunico, Nice, 06</td>\n",
       "      <td>43.696608</td>\n",
       "      <td>7.276624</td>\n",
       "    </tr>\n",
       "    <tr>\n",
       "      <th>9</th>\n",
       "      <td>La Pizza Cresci</td>\n",
       "      <td>0.0</td>\n",
       "      <td>6.2</td>\n",
       "      <td>34 Rue Masséna, Nice, 06</td>\n",
       "      <td>43.696938</td>\n",
       "      <td>7.265160</td>\n",
       "    </tr>\n",
       "  </tbody>\n",
       "</table>\n",
       "</div>"
      ],
      "text/plain": [
       "             restaurant_name  dave_scores  user_scores  \\\n",
       "0                  Pizza Hut          0.0          2.7   \n",
       "1                   Del sole          0.0          7.3   \n",
       "2   Lava Lounge Pizza Niseko          0.0          4.2   \n",
       "3       Pizzaria Cosa Nostra          0.0          8.5   \n",
       "4          Olivia Tjuvholmen          0.0          8.4   \n",
       "5        Mamma Pizza Osteria          0.0          9.7   \n",
       "6     Villa Paradiso Frogner          0.0          9.5   \n",
       "7  Balkan Pizza & Kebabhouse          0.0          9.3   \n",
       "8                 Pizza Pili          0.0          9.2   \n",
       "9            La Pizza Cresci          0.0          6.2   \n",
       "\n",
       "                                             address        lat        long  \n",
       "0                               213. Sok., Adana, 01  37.038584   35.293044  \n",
       "1                                 字ニセコ483-1, 虻田郡, 01  42.847092  140.646027  \n",
       "2                             倶知安町字山田191-19, 虻田郡, 01  42.860427  140.704820  \n",
       "3  R. Custódio Brás Pacheco, 1, Vila Nova de Milf...  37.724982   -8.781222  \n",
       "4                           Bryggegangen 4, Oslo, 03  59.908719   10.722541  \n",
       "5                      Dronningens gate 22, Oslo, 03  59.910741   10.746835  \n",
       "6                          Sommerrogata 17, Oslo, 03  59.915010   10.717962  \n",
       "7                   Mauritz Hansens gate 5, Oslo, 03  59.921419   10.732247  \n",
       "8                     24 Rue Benoit Bunico, Nice, 06  43.696608    7.276624  \n",
       "9                           34 Rue Masséna, Nice, 06  43.696938    7.265160  "
      ]
     },
     "execution_count": 54,
     "metadata": {},
     "output_type": "execute_result"
    }
   ],
   "source": [
    "df2 = df[:10]\n",
    "\n",
    "df2['lat'] = latitudes\n",
    "df2['long'] = longitudes\n",
    "\n",
    "df2"
   ]
  },
  {
   "cell_type": "code",
   "execution_count": 55,
   "metadata": {},
   "outputs": [],
   "source": [
    "df2.to_csv(\"../data/coords.csv\")"
   ]
  },
  {
   "cell_type": "code",
   "execution_count": null,
   "metadata": {},
   "outputs": [],
   "source": []
  }
 ],
 "metadata": {
  "kernelspec": {
   "display_name": "Python 3",
   "language": "python",
   "name": "python3"
  },
  "language_info": {
   "codemirror_mode": {
    "name": "ipython",
    "version": 3
   },
   "file_extension": ".py",
   "mimetype": "text/x-python",
   "name": "python",
   "nbconvert_exporter": "python",
   "pygments_lexer": "ipython3",
   "version": "3.7.6"
  }
 },
 "nbformat": 4,
 "nbformat_minor": 4
}
